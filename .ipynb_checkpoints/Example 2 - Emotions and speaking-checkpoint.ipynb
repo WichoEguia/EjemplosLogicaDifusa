{
 "cells": [
  {
   "cell_type": "code",
   "execution_count": null,
   "metadata": {},
   "outputs": [],
   "source": [
    "!conda install --yes skfuzzy"
   ]
  },
  {
   "cell_type": "code",
   "execution_count": null,
   "metadata": {},
   "outputs": [],
   "source": [
    "import matplotlib as plt\n",
    "import numpy as np\n",
    "import skfuzzy as fuzz\n",
    "from skfuzzy import control as ctrl"
   ]
  },
  {
   "cell_type": "code",
   "execution_count": null,
   "metadata": {},
   "outputs": [],
   "source": [
    "fear = ctrl.Antecedent(np.arange(0, 11, 1), 'fear')\n",
    "rage = ctrl.Antecedent(np.arange(0, 11, 1), 'rage')\n",
    "joy = ctrl.Antecedent(np.arange(0, 11, 1), 'joy')\n",
    "sadness = ctrl.Antecedent(np.arange(0, 11, 1), 'sadness')\n",
    "\n",
    "fear['low'] = fuzz.trimf(fear.universe, [0, 0, 5])\n",
    "fear['medium'] = fuzz.trimf(fear.universe, [0, 5, 10])\n",
    "fear['high'] = fuzz.trimf(fear.universe, [5, 10, 10])\n",
    "\n",
    "rage['low'] = fuzz.trimf(rage.universe, [0, 0, 5])\n",
    "rage['medium'] = fuzz.trimf(rage.universe, [0, 5, 10])\n",
    "rage['high'] = fuzz.trimf(rage.universe, [5, 10, 10])\n",
    "\n",
    "joy['low'] = fuzz.trimf(joy.universe, [0, 0, 5])\n",
    "joy['medium'] = fuzz.trimf(joy.universe, [0, 5, 10])\n",
    "joy['high'] = fuzz.trimf(joy.universe, [5, 10, 10])\n",
    "\n",
    "sadness['low'] = fuzz.trimf(sadness.universe, [0, 0, 5])\n",
    "sadness['medium'] = fuzz.trimf(sadness.universe, [0, 5, 10])\n",
    "sadness['high'] = fuzz.trimf(sadness.universe, [5, 10, 10])"
   ]
  },
  {
   "cell_type": "code",
   "execution_count": null,
   "metadata": {},
   "outputs": [],
   "source": [
    "fear.view()\n",
    "rage.view()\n",
    "joy.view()\n",
    "sadness.view()"
   ]
  }
 ],
 "metadata": {
  "kernelspec": {
   "display_name": "Python 3",
   "language": "python",
   "name": "python3"
  },
  "language_info": {
   "codemirror_mode": {
    "name": "ipython",
    "version": 3
   },
   "file_extension": ".py",
   "mimetype": "text/x-python",
   "name": "python",
   "nbconvert_exporter": "python",
   "pygments_lexer": "ipython3",
   "version": "3.7.3"
  }
 },
 "nbformat": 4,
 "nbformat_minor": 2
}
